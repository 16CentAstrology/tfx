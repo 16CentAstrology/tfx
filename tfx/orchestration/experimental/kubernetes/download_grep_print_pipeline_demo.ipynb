{
 "cells": [
  {
   "cell_type": "code",
   "execution_count": 1,
   "metadata": {},
   "outputs": [
    {
     "name": "stdout",
     "output_type": "stream",
     "text": [
      "mysql {\n",
      "  host: \"mysql\"\n",
      "  port: 3306\n",
      "  database: \"mysql\"\n",
      "  user: \"root\"\n",
      "  password: \"\"\n",
      "}\n",
      "\n",
      "<class 'RuntimeError'> mysql_real_connect failed: errno: 2005, error: Unknown MySQL server host 'mysql' (-2)\n"
     ]
    }
   ],
   "source": [
    "# verify that a connection to the metadata store can be established\n",
    "# note: this notebook should be ran inside of a kubernetes conatiner\n",
    "from ml_metadata import metadata_store\n",
    "from ml_metadata.proto import metadata_store_pb2\n",
    "connection_config = metadata_store_pb2.ConnectionConfig()\n",
    "connection_config.mysql.host = 'mysql'\n",
    "connection_config.mysql.port = 3306\n",
    "connection_config.mysql.database = 'mysql'\n",
    "connection_config.mysql.user = 'root'\n",
    "connection_config.mysql.password = ''\n",
    "import sys\n",
    "print(connection_config)\n",
    "try:\n",
    "    store = metadata_store.MetadataStore(connection_config)\n",
    "except Exception as e:\n",
    "    print(sys.exc_info()[0], e)"
   ]
  },
  {
   "cell_type": "code",
   "execution_count": 3,
   "metadata": {},
   "outputs": [],
   "source": [
    "from __future__ import absolute_import\n",
    "from __future__ import division\n",
    "from __future__ import print_function\n",
    "\n",
    "import datetime\n",
    "import os\n",
    "from typing import Any, Iterable, List, Optional, Text, Type\n",
    "\n",
    "import absl\n",
    "import apache_beam as beam\n",
    "\n",
    "from tfx.components.base import base_node\n",
    "from tfx.orchestration import data_types\n",
    "from tfx.orchestration import metadata\n",
    "from tfx.orchestration import pipeline\n",
    "from tfx.orchestration import tfx_runner\n",
    "from tfx.orchestration.config import base_component_config\n",
    "from tfx.orchestration.config import config_utils\n",
    "from tfx.orchestration.config import pipeline_config\n",
    "from tfx.orchestration.launcher import base_component_launcher\n",
    "from tfx.orchestration.launcher import docker_component_launcher\n",
    "from tfx.orchestration.launcher import kubernetes_component_launcher\n",
    "from tfx.orchestration.experimental.kubernetes import kubernetes_dag_runner\n",
    "from tfx.orchestration.test_pipelines.download_grep_print_pipeline import create_pipeline_component_instances\n",
    "from tfx.utils import telemetry_utils\n"
   ]
  },
  {
   "cell_type": "code",
   "execution_count": 4,
   "metadata": {},
   "outputs": [],
   "source": [
    "_tfx_root = os.path.join(os.environ['HOME'], 'tfx')\n",
    "_pipeline_name = 'test'\n",
    "#_pipeline_root = os.path.join(_tfx_root, 'pipelines', _pipeline_name)\n",
    "_pipeline_root = \"gs://tfx-eric-default\"\n",
    "\n",
    "\n",
    "def _create_pipeline() -> pipeline.Pipeline:\n",
    "\n",
    "    pipeline_name = _pipeline_name\n",
    "    pipeline_root = _pipeline_root\n",
    "\n",
    "    components = create_pipeline_component_instances(\"www.google.com\", \"google\")\n",
    "\n",
    "    # in cluster connection config\n",
    "    metadata_connection_config = metadata.mysql_metadata_connection_config(\n",
    "    host='mysql', port=3306, username='root', database='mysql', password='')\n",
    "\n",
    "    return pipeline.Pipeline(\n",
    "        pipeline_name=pipeline_name,\n",
    "        pipeline_root=pipeline_root,\n",
    "        components=components,\n",
    "        metadata_connection_config=metadata_connection_config,\n",
    "        enable_cache=True,\n",
    "#        beam_pipeline_args=beam_pipeline_args,\n",
    "    ) \n"
   ]
  },
  {
   "cell_type": "code",
   "execution_count": 5,
   "metadata": {},
   "outputs": [
    {
     "ename": "RuntimeError",
     "evalue": "Failed to establish connection to Metadata storage with error: mysql_real_connect failed: errno: 2005, error: Unknown MySQL server host 'mysql' (-2)",
     "output_type": "error",
     "traceback": [
      "\u001b[0;31m---------------------------------------------------------------------------\u001b[0m",
      "\u001b[0;31mRuntimeError\u001b[0m                              Traceback (most recent call last)",
      "\u001b[0;32m<ipython-input-5-f98d3df5e830>\u001b[0m in \u001b[0;36m<module>\u001b[0;34m\u001b[0m\n\u001b[1;32m      3\u001b[0m     \u001b[0m_pipeline\u001b[0m \u001b[0;34m=\u001b[0m \u001b[0m_create_pipeline\u001b[0m\u001b[0;34m(\u001b[0m\u001b[0;34m)\u001b[0m\u001b[0;34m\u001b[0m\u001b[0;34m\u001b[0m\u001b[0m\n\u001b[1;32m      4\u001b[0m     \u001b[0;31m# use kubernetes dag runner to run the pipeline\u001b[0m\u001b[0;34m\u001b[0m\u001b[0;34m\u001b[0m\u001b[0;34m\u001b[0m\u001b[0m\n\u001b[0;32m----> 5\u001b[0;31m     \u001b[0mkubernetes_dag_runner\u001b[0m\u001b[0;34m.\u001b[0m\u001b[0mKubernetesDagRunner\u001b[0m\u001b[0;34m(\u001b[0m\u001b[0;34m)\u001b[0m\u001b[0;34m.\u001b[0m\u001b[0mrun\u001b[0m\u001b[0;34m(\u001b[0m\u001b[0mtfx_pipeline\u001b[0m\u001b[0;34m=\u001b[0m\u001b[0m_pipeline\u001b[0m\u001b[0;34m)\u001b[0m\u001b[0;34m\u001b[0m\u001b[0;34m\u001b[0m\u001b[0m\n\u001b[0m",
      "\u001b[0;32m~/tfx/tfx/orchestration/experimental/kubernetes/kubernetes_dag_runner.py\u001b[0m in \u001b[0;36mrun\u001b[0;34m(self, tfx_pipeline)\u001b[0m\n\u001b[1;32m    281\u001b[0m         \u001b[0;31m# launch component\u001b[0m\u001b[0;34m\u001b[0m\u001b[0;34m\u001b[0m\u001b[0;34m\u001b[0m\u001b[0m\n\u001b[1;32m    282\u001b[0m         _LaunchAsContainerComponent(component, component_launcher_class,\n\u001b[0;32m--> 283\u001b[0;31m                                     component_config, tfx_pipeline)._run_component()\n\u001b[0m\u001b[1;32m    284\u001b[0m \u001b[0;34m\u001b[0m\u001b[0m\n\u001b[1;32m    285\u001b[0m       \u001b[0;31m# record the ran component. Always record the unwrapped component\u001b[0m\u001b[0;34m\u001b[0m\u001b[0;34m\u001b[0m\u001b[0;34m\u001b[0m\u001b[0m\n",
      "\u001b[0;32m~/tfx/tfx/orchestration/experimental/kubernetes/kubernetes_dag_runner.py\u001b[0m in \u001b[0;36m_run_component\u001b[0;34m(self)\u001b[0m\n\u001b[1;32m    205\u001b[0m   \u001b[0;32mdef\u001b[0m \u001b[0m_run_component\u001b[0m\u001b[0;34m(\u001b[0m\u001b[0mself\u001b[0m\u001b[0;34m)\u001b[0m \u001b[0;34m->\u001b[0m \u001b[0;32mNone\u001b[0m\u001b[0;34m:\u001b[0m\u001b[0;34m\u001b[0m\u001b[0;34m\u001b[0m\u001b[0m\n\u001b[1;32m    206\u001b[0m     \u001b[0mabsl\u001b[0m\u001b[0;34m.\u001b[0m\u001b[0mlogging\u001b[0m\u001b[0;34m.\u001b[0m\u001b[0minfo\u001b[0m\u001b[0;34m(\u001b[0m\u001b[0;34m'Component %s is running.'\u001b[0m\u001b[0;34m,\u001b[0m \u001b[0mself\u001b[0m\u001b[0;34m.\u001b[0m\u001b[0m_component_id\u001b[0m\u001b[0;34m)\u001b[0m\u001b[0;34m\u001b[0m\u001b[0;34m\u001b[0m\u001b[0m\n\u001b[0;32m--> 207\u001b[0;31m     \u001b[0mself\u001b[0m\u001b[0;34m.\u001b[0m\u001b[0m_component_launcher\u001b[0m\u001b[0;34m.\u001b[0m\u001b[0mlaunch\u001b[0m\u001b[0;34m(\u001b[0m\u001b[0;34m)\u001b[0m\u001b[0;34m\u001b[0m\u001b[0;34m\u001b[0m\u001b[0m\n\u001b[0m\u001b[1;32m    208\u001b[0m     \u001b[0mabsl\u001b[0m\u001b[0;34m.\u001b[0m\u001b[0mlogging\u001b[0m\u001b[0;34m.\u001b[0m\u001b[0minfo\u001b[0m\u001b[0;34m(\u001b[0m\u001b[0;34m'Component %s is finished.'\u001b[0m\u001b[0;34m,\u001b[0m \u001b[0mself\u001b[0m\u001b[0;34m.\u001b[0m\u001b[0m_component_id\u001b[0m\u001b[0;34m)\u001b[0m\u001b[0;34m\u001b[0m\u001b[0;34m\u001b[0m\u001b[0m\n\u001b[1;32m    209\u001b[0m \u001b[0;34m\u001b[0m\u001b[0m\n",
      "\u001b[0;32m~/tfx/tfx/orchestration/launcher/base_component_launcher.py\u001b[0m in \u001b[0;36mlaunch\u001b[0;34m(self)\u001b[0m\n\u001b[1;32m    195\u001b[0m                       self._component_info.component_id)\n\u001b[1;32m    196\u001b[0m     execution_decision = self._run_driver(self._input_dict, self._output_dict,\n\u001b[0;32m--> 197\u001b[0;31m                                           self._exec_properties)\n\u001b[0m\u001b[1;32m    198\u001b[0m \u001b[0;34m\u001b[0m\u001b[0m\n\u001b[1;32m    199\u001b[0m     \u001b[0;32mif\u001b[0m \u001b[0;32mnot\u001b[0m \u001b[0mexecution_decision\u001b[0m\u001b[0;34m.\u001b[0m\u001b[0muse_cached_results\u001b[0m\u001b[0;34m:\u001b[0m\u001b[0;34m\u001b[0m\u001b[0;34m\u001b[0m\u001b[0m\n",
      "\u001b[0;32m~/tfx/tfx/orchestration/launcher/base_component_launcher.py\u001b[0m in \u001b[0;36m_run_driver\u001b[0;34m(self, input_dict, output_dict, exec_properties)\u001b[0m\n\u001b[1;32m    155\u001b[0m     \u001b[0;34m\"\"\"Prepare inputs, outputs and execution properties for actual execution.\"\"\"\u001b[0m\u001b[0;34m\u001b[0m\u001b[0;34m\u001b[0m\u001b[0m\n\u001b[1;32m    156\u001b[0m \u001b[0;34m\u001b[0m\u001b[0m\n\u001b[0;32m--> 157\u001b[0;31m     \u001b[0;32mwith\u001b[0m \u001b[0mself\u001b[0m\u001b[0;34m.\u001b[0m\u001b[0m_metadata_connection\u001b[0m \u001b[0;32mas\u001b[0m \u001b[0mm\u001b[0m\u001b[0;34m:\u001b[0m\u001b[0;34m\u001b[0m\u001b[0;34m\u001b[0m\u001b[0m\n\u001b[0m\u001b[1;32m    158\u001b[0m       \u001b[0mdriver\u001b[0m \u001b[0;34m=\u001b[0m \u001b[0mself\u001b[0m\u001b[0;34m.\u001b[0m\u001b[0m_driver_class\u001b[0m\u001b[0;34m(\u001b[0m\u001b[0mmetadata_handler\u001b[0m\u001b[0;34m=\u001b[0m\u001b[0mm\u001b[0m\u001b[0;34m)\u001b[0m\u001b[0;34m\u001b[0m\u001b[0;34m\u001b[0m\u001b[0m\n\u001b[1;32m    159\u001b[0m \u001b[0;34m\u001b[0m\u001b[0m\n",
      "\u001b[0;32m~/tfx/tfx/orchestration/metadata.py\u001b[0m in \u001b[0;36m__enter__\u001b[0;34m(self)\u001b[0m\n\u001b[1;32m    158\u001b[0m     raise RuntimeError(\n\u001b[1;32m    159\u001b[0m         \u001b[0;34m'Failed to establish connection to Metadata storage with error: %s'\u001b[0m \u001b[0;34m%\u001b[0m\u001b[0;34m\u001b[0m\u001b[0;34m\u001b[0m\u001b[0m\n\u001b[0;32m--> 160\u001b[0;31m         connection_error)\n\u001b[0m\u001b[1;32m    161\u001b[0m \u001b[0;34m\u001b[0m\u001b[0m\n\u001b[1;32m    162\u001b[0m   def __exit__(self, exc_type: Optional[Type[Exception]],\n",
      "\u001b[0;31mRuntimeError\u001b[0m: Failed to establish connection to Metadata storage with error: mysql_real_connect failed: errno: 2005, error: Unknown MySQL server host 'mysql' (-2)"
     ]
    }
   ],
   "source": [
    "if __name__ == '__main__':\n",
    "    # first, create a tfx pipiline\n",
    "    _pipeline = _create_pipeline()\n",
    "    # use kubernetes dag runner to run the pipeline\n",
    "    kubernetes_dag_runner.KubernetesDagRunner().run(tfx_pipeline=_pipeline)"
   ]
  },
  {
   "cell_type": "code",
   "execution_count": null,
   "metadata": {},
   "outputs": [],
   "source": []
  }
 ],
 "metadata": {
  "kernelspec": {
   "display_name": "Python 3",
   "language": "python",
   "name": "python3"
  },
  "language_info": {
   "codemirror_mode": {
    "name": "ipython",
    "version": 3
   },
   "file_extension": ".py",
   "mimetype": "text/x-python",
   "name": "python",
   "nbconvert_exporter": "python",
   "pygments_lexer": "ipython3",
   "version": "3.7.7"
  }
 },
 "nbformat": 4,
 "nbformat_minor": 4
}
