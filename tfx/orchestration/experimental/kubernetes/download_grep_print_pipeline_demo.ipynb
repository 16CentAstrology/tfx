{
 "cells": [
  {
   "cell_type": "code",
   "execution_count": null,
   "metadata": {},
   "outputs": [],
   "source": [
    "# verify that a connection to the metadata store can be established\n",
    "# note: this notebook should be ran inside of a kubernetes conatiner\n",
    "from ml_metadata import metadata_store\n",
    "from ml_metadata.proto import metadata_store_pb2\n",
    "connection_config = metadata_store_pb2.ConnectionConfig()\n",
    "connection_config.mysql.host = 'mysql'\n",
    "connection_config.mysql.port = 3306\n",
    "connection_config.mysql.database = 'mysql'\n",
    "connection_config.mysql.user = 'root'\n",
    "connection_config.mysql.password = ''\n",
    "import sys\n",
    "print(connection_config)\n",
    "try:\n",
    "    store = metadata_store.MetadataStore(connection_config)\n",
    "except Exception as e:\n",
    "    print(sys.exc_info()[0], e)"
   ]
  },
  {
   "cell_type": "code",
   "execution_count": null,
   "metadata": {},
   "outputs": [],
   "source": [
    "from __future__ import absolute_import\n",
    "from __future__ import division\n",
    "from __future__ import print_function\n",
    "\n",
    "import datetime\n",
    "import os\n",
    "from typing import Any, Iterable, List, Optional, Text, Type\n",
    "\n",
    "import absl\n",
    "import apache_beam as beam\n",
    "\n",
    "from tfx.components.base import base_node\n",
    "from tfx.orchestration import data_types\n",
    "from tfx.orchestration import metadata\n",
    "from tfx.orchestration import pipeline\n",
    "from tfx.orchestration import tfx_runner\n",
    "from tfx.orchestration.config import base_component_config\n",
    "from tfx.orchestration.config import config_utils\n",
    "from tfx.orchestration.config import pipeline_config\n",
    "from tfx.orchestration.launcher import base_component_launcher\n",
    "from tfx.orchestration.launcher import docker_component_launcher\n",
    "from tfx.orchestration.launcher import kubernetes_component_launcher\n",
    "from tfx.orchestration.experimental.kubernetes import kubernetes_dag_runner\n",
    "from tfx.orchestration.test_pipelines.download_grep_print_pipeline import create_pipeline_component_instances\n",
    "from tfx.utils import telemetry_utils\n"
   ]
  },
  {
   "cell_type": "code",
   "execution_count": null,
   "metadata": {},
   "outputs": [],
   "source": [
    "_tfx_root = os.path.join(os.environ['HOME'], 'tfx')\n",
    "_pipeline_name = 'test'\n",
    "#_pipeline_root = os.path.join(_tfx_root, 'pipelines', _pipeline_name)\n",
    "_pipeline_root = \"gs://tfx-eric-default\"\n",
    "\n",
    "\n",
    "def _create_pipeline() -> pipeline.Pipeline:\n",
    "\n",
    "    pipeline_name = _pipeline_name\n",
    "    pipeline_root = _pipeline_root\n",
    "\n",
    "    components = create_pipeline_component_instances(\"www.google.com\", \"google\")\n",
    "\n",
    "    # in cluster connection config\n",
    "    metadata_connection_config = metadata.mysql_metadata_connection_config(\n",
    "    host='mysql', port=3306, username='root', database='mysql', password='')\n",
    "\n",
    "    return pipeline.Pipeline(\n",
    "        pipeline_name=pipeline_name,\n",
    "        pipeline_root=pipeline_root,\n",
    "        components=components,\n",
    "        metadata_connection_config=metadata_connection_config,\n",
    "        enable_cache=True,\n",
    "#        beam_pipeline_args=beam_pipeline_args,\n",
    "    ) \n"
   ]
  },
  {
   "cell_type": "code",
   "execution_count": null,
   "metadata": {},
   "outputs": [],
   "source": [
    "if __name__ == '__main__':\n",
    "    # first, create a tfx pipiline\n",
    "    _pipeline = _create_pipeline()\n",
    "    # use kubernetes dag runner to run the pipeline\n",
    "    kubernetes_dag_runner.KubernetesDagRunner().run(tfx_pipeline=_pipeline)"
   ]
  }
 ],
 "metadata": {
  "kernelspec": {
   "display_name": "Python 3",
   "language": "python",
   "name": "python3"
  },
  "language_info": {
   "codemirror_mode": {
    "name": "ipython",
    "version": 3
   },
   "file_extension": ".py",
   "mimetype": "text/x-python",
   "name": "python",
   "nbconvert_exporter": "python",
   "pygments_lexer": "ipython3",
   "version": "3.7.7"
  }
 },
 "nbformat": 4,
 "nbformat_minor": 4
}
