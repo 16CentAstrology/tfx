{
  "cells": [
    {
      "cell_type": "code",
      "execution_count": null,
      "id": "59684429-72a2-46c4-901b-796dadc0f819",
      "metadata": {
        "id": "59684429-72a2-46c4-901b-796dadc0f819"
      },
      "outputs": [],
      "source": [
        "from __future__ import print_function\n",
        "\n",
        "import os\n",
        "import tfx_utils\n",
        "\n",
        "def _make_default_sqlite_uri(pipeline_name):\n",
        "    return os.path.join(os.environ['HOME'], 'airflow/tfx/metadata', pipeline_name, 'metadata.db')\n",
        "\n",
        "def get_metadata_store(pipeline_name):\n",
        "    return tfx_utils.TFXReadonlyMetadataStore.from_sqlite_db(_make_default_sqlite_uri(pipeline_name))\n",
        "\n",
        "pipeline_name = 'taxi' # or taxi_solution\n",
        "pipeline_db_path = _make_default_sqlite_uri(pipeline_name)\n",
        "print('Pipeline DB:\\n{}'.format(pipeline_db_path))\n",
        "\n",
        "store = get_metadata_store(pipeline_name)"
      ]
    },
    {
      "cell_type": "code",
      "execution_count": null,
      "id": "8c8e284b-b02c-4159-93f5-965829445e2d",
      "metadata": {
        "id": "8c8e284b-b02c-4159-93f5-965829445e2d"
      },
      "outputs": [],
      "source": [
        "store.get_artifacts_of_type_df(tfx_utils.TFXArtifactTypes.MODEL)"
      ]
    },
    {
      "cell_type": "code",
      "execution_count": null,
      "id": "8a75c523-d8e8-4639-9795-d5679ef82fb9",
      "metadata": {
        "id": "8a75c523-d8e8-4639-9795-d5679ef82fb9"
      },
      "outputs": [],
      "source": [
        "store.display_tfma_analysis(13, slicing_column='trip_start_hour')"
      ]
    },
    {
      "cell_type": "code",
      "execution_count": null,
      "id": "f696555b-7475-4fc3-8592-6c804abd98b7",
      "metadata": {
        "id": "f696555b-7475-4fc3-8592-6c804abd98b7"
      },
      "outputs": [],
      "source": [
        "# Try different IDs here. Click stop in the plot when changing IDs.\n",
        "%matplotlib inline\n",
        "store.plot_artifact_lineage(13)"
      ]
    }
  ],
  "metadata": {
    "environment": {
      "kernel": "python3",
      "name": "tf2-gpu.2-8.m91",
      "type": "gcloud",
      "uri": "gcr.io/deeplearning-platform-release/tf2-gpu.2-8:m91"
    },
    "kernelspec": {
      "display_name": "Python 3",
      "language": "python",
      "name": "python3"
    },
    "language_info": {
      "codemirror_mode": {
        "name": "ipython",
        "version": 3
      },
      "file_extension": ".py",
      "mimetype": "text/x-python",
      "name": "python",
      "nbconvert_exporter": "python",
      "pygments_lexer": "ipython3",
      "version": "3.7.12"
    },
    "colab": {
      "name": "step6.ipynb",
      "provenance": []
    }
  },
  "nbformat": 4,
  "nbformat_minor": 5
}