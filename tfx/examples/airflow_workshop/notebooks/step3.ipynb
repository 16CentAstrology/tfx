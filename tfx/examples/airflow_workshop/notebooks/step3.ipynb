{
  "cells": [
    {
      "cell_type": "code",
      "execution_count": null,
      "id": "bafbb6e4-51a5-4446-ac1c-9c5fde3c9124",
      "metadata": {
        "id": "bafbb6e4-51a5-4446-ac1c-9c5fde3c9124"
      },
      "outputs": [],
      "source": [
        "from __future__ import print_function\n",
        "\n",
        "!pip install -q papermill\n",
        "!pip install -q matplotlib\n",
        "!pip install -q networkx\n",
        "\n",
        "import os\n",
        "import tfx_utils\n",
        "%matplotlib notebook\n",
        "\n",
        "def _make_default_sqlite_uri(pipeline_name):\n",
        "    return os.path.join(os.environ['HOME'], 'airflow/tfx/metadata', pipeline_name, 'metadata.db')\n",
        "\n",
        "def get_metadata_store(pipeline_name):\n",
        "    return tfx_utils.TFXReadonlyMetadataStore.from_sqlite_db(_make_default_sqlite_uri(pipeline_name))\n",
        "\n",
        "pipeline_name = 'taxi'\n",
        "\n",
        "pipeline_db_path = _make_default_sqlite_uri(pipeline_name)\n",
        "print('Pipeline DB:\\n{}'.format(pipeline_db_path))\n",
        "\n",
        "store = get_metadata_store(pipeline_name)"
      ]
    },
    {
      "cell_type": "code",
      "execution_count": null,
      "id": "6239f624-937d-48e2-824f-ed4ce757c0fe",
      "metadata": {
        "id": "6239f624-937d-48e2-824f-ed4ce757c0fe"
      },
      "outputs": [],
      "source": [
        "# Visualize properties of example artifacts\n",
        "store.get_artifacts_of_type_df(tfx_utils.TFXArtifactTypes.EXAMPLES)"
      ]
    },
    {
      "cell_type": "code",
      "execution_count": null,
      "id": "a426be9a-cda3-4bc3-bcae-e9b50c4e8d9d",
      "metadata": {
        "id": "a426be9a-cda3-4bc3-bcae-e9b50c4e8d9d"
      },
      "outputs": [],
      "source": [
        "# Visualize stats for data\n",
        "store.display_stats_for_examples(1, split='Split-train')"
      ]
    },
    {
      "cell_type": "code",
      "execution_count": null,
      "id": "cc08526e-7053-426c-8863-ce7a6226c7da",
      "metadata": {
        "id": "cc08526e-7053-426c-8863-ce7a6226c7da"
      },
      "outputs": [],
      "source": [
        "# Try different IDs here. Click stop in the plot when changing IDs.\n",
        "%matplotlib inline\n",
        "store.plot_artifact_lineage(1)"
      ]
    }
  ],
  "metadata": {
    "environment": {
      "kernel": "python3",
      "name": "tf2-gpu.2-8.m91",
      "type": "gcloud",
      "uri": "gcr.io/deeplearning-platform-release/tf2-gpu.2-8:m91"
    },
    "kernelspec": {
      "display_name": "Python 3",
      "language": "python",
      "name": "python3"
    },
    "language_info": {
      "codemirror_mode": {
        "name": "ipython",
        "version": 3
      },
      "file_extension": ".py",
      "mimetype": "text/x-python",
      "name": "python",
      "nbconvert_exporter": "python",
      "pygments_lexer": "ipython3",
      "version": "3.7.12"
    },
    "colab": {
      "name": "step3.ipynb",
      "provenance": []
    }
  },
  "nbformat": 4,
  "nbformat_minor": 5
}