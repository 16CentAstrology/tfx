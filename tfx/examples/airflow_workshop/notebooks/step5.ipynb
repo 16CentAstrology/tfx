{
  "cells": [
    {
      "cell_type": "code",
      "execution_count": null,
      "id": "97cc1d27-dfab-4a27-970b-a5420dfa373b",
      "metadata": {
        "id": "97cc1d27-dfab-4a27-970b-a5420dfa373b",
        "outputId": "63a84bd3-cfb8-4038-cf99-7ae7f13bcbd4"
      },
      "outputs": [
        {
          "name": "stdout",
          "output_type": "stream",
          "text": [
            "tensorboard_logdir: /home/jupyter/airflow/tfx/pipelines/taxi/Trainer/model_run\n"
          ]
        }
      ],
      "source": [
        "from __future__ import print_function\n",
        "\n",
        "import os\n",
        "import webbrowser\n",
        "import tensorflow as tf\n",
        "\n",
        "!pip install -q tensorboard\n",
        "tf.get_logger().propagate = False\n",
        "\n",
        "pipeline_name = 'taxi'\n",
        "tensorboard_logdir = os.path.join(os.environ['HOME'], 'airflow/tfx/pipelines', pipeline_name, 'Trainer/model_run')\n",
        "print('tensorboard_logdir: {}'.format(tensorboard_logdir))\n",
        "#os.environ['TENSORBOARD_LOGDIR'] = tensorboard_logdir"
      ]
    },
    {
      "cell_type": "code",
      "execution_count": null,
      "id": "32f8dd17-92e5-4884-a7bb-7c4013597ca6",
      "metadata": {
        "id": "32f8dd17-92e5-4884-a7bb-7c4013597ca6"
      },
      "outputs": [],
      "source": [
        "# Load the TensorBoard notebook extension\n",
        "%load_ext tensorboard"
      ]
    },
    {
      "cell_type": "code",
      "execution_count": null,
      "id": "6cf89400-e7a0-4b8f-a5d9-8a3d01ef25b0",
      "metadata": {
        "id": "6cf89400-e7a0-4b8f-a5d9-8a3d01ef25b0"
      },
      "outputs": [],
      "source": [
        "%tensorboard --logdir $tensorboard_logdir"
      ]
    }
  ],
  "metadata": {
    "environment": {
      "kernel": "python3",
      "name": "tf2-gpu.2-8.m91",
      "type": "gcloud",
      "uri": "gcr.io/deeplearning-platform-release/tf2-gpu.2-8:m91"
    },
    "kernelspec": {
      "display_name": "Python 3",
      "language": "python",
      "name": "python3"
    },
    "language_info": {
      "codemirror_mode": {
        "name": "ipython",
        "version": 3
      },
      "file_extension": ".py",
      "mimetype": "text/x-python",
      "name": "python",
      "nbconvert_exporter": "python",
      "pygments_lexer": "ipython3",
      "version": "3.7.12"
    },
    "colab": {
      "name": "step5.ipynb",
      "provenance": [],
      "collapsed_sections": []
    }
  },
  "nbformat": 4,
  "nbformat_minor": 5
}